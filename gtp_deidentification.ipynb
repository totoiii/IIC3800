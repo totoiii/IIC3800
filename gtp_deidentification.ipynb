{
 "cells": [
  {
   "cell_type": "code",
   "execution_count": 10,
   "metadata": {},
   "outputs": [
    {
     "ename": "SyntaxError",
     "evalue": "EOL while scanning string literal (3640915587.py, line 11)",
     "output_type": "error",
     "traceback": [
      "\u001b[1;36m  Input \u001b[1;32mIn [10]\u001b[1;36m\u001b[0m\n\u001b[1;33m    ejemplo positivo:\u001b[0m\n\u001b[1;37m                      \n^\u001b[0m\n\u001b[1;31mSyntaxError\u001b[0m\u001b[1;31m:\u001b[0m EOL while scanning string literal\n"
     ]
    }
   ],
   "source": [
    "import openai\n",
    "\n",
    "# OpenAI Settings\n",
    "openai.api_key = \"32eed500211d4339b268de7a1228d2be\" #\"52e2c74c2c934a3cb9b4b6504dabe30b\"\n",
    "openai.api_type = 'azure'\n",
    "openai.api_version = \"2023-03-15-preview\"\n",
    "openai.api_base = \"https://az-openai-desa.openai.azure.com/\" #\"https://achs-az-oai-desa.openai.azure.com/\"\n",
    "\n",
    "message_final = \"Etiqueta el siguiente texto clínico, entregalo en formato ConLL-U. Las reglas son:\\\n",
    "    Reglas generales: No incluir en la etiqueta los espacios ni signos de puntuación que aparezcan antes o después de cada mención y que no pertenezcan a la etiqueta como tal.\\\n",
    "        ejemplo positivo: \n",
    "    y las etiquetas son:\\\n",
    "     1.- Age(edad o referencia a ella): Ejemplos , Full_Date(cualquier expresión que contenga fecha exacta. Una fecha exacta debe tener un día, mes y año), Date_Part(cualquier parte o componente de ), First_Name, Last_Name, Location, Health_Care_Unit, Phone_Number, Company, Sex, RUT, Time, Occupation, Occupation_Info.\\\n",
    "     EL texto es el siguiente: Paciente el dia miercoles 25/05 alrededor de las 17:00 hrs mientras se encontraba realizando aseo en el bosque, pisa una piedra y ramas, sintiendo \"\"torsion\"\" de rodilla D.Con dolor en rodilla D. Dolor persiste por lo que avisa a jefatura el dia de hoy, siendo derivado ACHS.\"\n",
    "\n",
    "# Chat \n",
    "respuesta = openai.ChatCompletion.create(engine = 'az-openai-desa-gpt-35-turbo-0301',\n",
    "                             messages = [{\"role\":\"system\", \"content\":\"You are an AI assistant that helps people find information.\"},\n",
    "                                         {\"role\":\"user\", \"content\":message_final }],\n",
    "                             temperature = 0.7,\n",
    "                             max_tokens = 800,\n",
    "                             top_p = 0.95,\n",
    "                             frequency_penalty=0,\n",
    "                             presence_penalty=0,\n",
    "                             stop=None)\n",
    "choices = respuesta[\"choices\"]\n",
    "\n",
    "# Acceso al primer elemento de la lista en \"choices\"\n",
    "first_choice = choices[0]\n",
    "\n",
    "# Acceso al contenido en la clave \"message\"\n",
    "message_content = first_choice[\"message\"][\"content\"]\n",
    "print(message_content)"
   ]
  },
  {
   "cell_type": "code",
   "execution_count": 40,
   "metadata": {},
   "outputs": [
    {
     "name": "stdout",
     "output_type": "stream",
     "text": [
      "El token \"Scotiabank\" se encuentra entre los caracteres 22 y 31 del texto dado.\n"
     ]
    }
   ],
   "source": [
    "import openai\n",
    "\n",
    "# OpenAI Settings\n",
    "openai.api_key = \"32eed500211d4339b268de7a1228d2be\" #\"52e2c74c2c934a3cb9b4b6504dabe30b\"\n",
    "openai.api_type = 'azure'\n",
    "openai.api_version = \"2023-03-15-preview\"\n",
    "openai.api_base = \"https://az-openai-desa.openai.azure.com/\" #\"https://achs-az-oai-desa.openai.azure.com/\"\n",
    "\n",
    "texto = \"… PCTE trabaja en Scotiabank. se dirigía a su trabajo cuando ...\"\n",
    "tokens= \"Scotiabank\"\n",
    "message_final = f\"Dime entre qué posiciones de caracteres se encuentran los tokens que te menciono en el siguiente texto:\\\n",
    "                     '{texto}' \\\n",
    "                        Tokens :{tokens}\"\n",
    "# Chat \n",
    "respuesta = openai.ChatCompletion.create(engine = 'az-openai-desa-gpt-35-turbo-0301',\n",
    "                             messages = [{\"role\":\"system\", \"content\":\"You are an AI assistant that helps people find information.\"},\n",
    "                                         {\"role\":\"user\", \"content\":message_final }],\n",
    "                             temperature = 0.7,\n",
    "                             max_tokens = 800,\n",
    "                             top_p = 0.95,\n",
    "                             frequency_penalty=0,\n",
    "                             presence_penalty=0,\n",
    "                             stop=None)\n",
    "\n",
    "choices = respuesta[\"choices\"]\n",
    "\n",
    "# Acceso al primer elemento de la lista en \"choices\"\n",
    "first_choice = choices[0]\n",
    "\n",
    "# Acceso al contenido en la clave \"message\"\n",
    "message_content = first_choice[\"message\"][\"content\"]\n",
    "print(message_content)"
   ]
  },
  {
   "cell_type": "code",
   "execution_count": 52,
   "metadata": {},
   "outputs": [],
   "source": [
    "def find_token_positions(text, token):\n",
    "    start_positions = []\n",
    "    end_positions = []\n",
    "    start = 0\n",
    "    \n",
    "    while start < len(text):\n",
    "        start_idx = text.find(token, start)\n",
    "        if start_idx == -1:\n",
    "            break\n",
    "        end_idx = start_idx + len(token) - 1\n",
    "        start_positions.append(start_idx)\n",
    "        end_positions.append(end_idx)\n",
    "        start = end_idx + 1\n",
    "    \n",
    "    return start_positions, end_positions"
   ]
  },
  {
   "cell_type": "code",
   "execution_count": 57,
   "metadata": {},
   "outputs": [
    {
     "name": "stdout",
     "output_type": "stream",
     "text": [
      "... W: empresa constructora. O: Maestro. Mientras trabajaba le entró nube de polvo en el ojo...\n",
      "T1 Company 7 27 \n"
     ]
    }
   ],
   "source": [
    "text = \"... W: empresa constructora. O: Maestro. Mientras trabajaba le entró nube de polvo en el ojo...\"\n",
    "token_to_find= \"empresa constructora\"\n",
    "Entity = \"Company\"\n",
    "start_positions, end_positions = find_token_positions(text, token_to_find)\n",
    "\n",
    "if start_positions:\n",
    "    for start, end in zip(start_positions, end_positions):\n",
    "        print(f\"{text}\")\n",
    "        print(f\"T1 {Entity} {start} {end+1} \")\n",
    "else:\n",
    "    print(f\" '{token_to_find}' no encontrado en el texto.\")"
   ]
  }
 ],
 "metadata": {
  "kernelspec": {
   "display_name": "Python 3",
   "language": "python",
   "name": "python3"
  },
  "language_info": {
   "codemirror_mode": {
    "name": "ipython",
    "version": 3
   },
   "file_extension": ".py",
   "mimetype": "text/x-python",
   "name": "python",
   "nbconvert_exporter": "python",
   "pygments_lexer": "ipython3",
   "version": "3.8.10"
  },
  "orig_nbformat": 4
 },
 "nbformat": 4,
 "nbformat_minor": 2
}
